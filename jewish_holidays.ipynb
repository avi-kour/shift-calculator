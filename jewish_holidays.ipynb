{
 "cells": [
  {
   "cell_type": "code",
   "execution_count": 2,
   "id": "d760fb84",
   "metadata": {},
   "outputs": [],
   "source": [
    "import requests\n",
    "from datetime import datetime, timedelta"
   ]
  },
  {
   "cell_type": "code",
   "execution_count": 6,
   "id": "be54574c",
   "metadata": {},
   "outputs": [
    {
     "data": {
      "text/plain": [
       "{(datetime.date(2025, 4, 13), 'Pesach I'),\n",
       " (datetime.date(2025, 4, 19), 'Pesach VII'),\n",
       " (datetime.date(2025, 6, 2), 'Shavuot'),\n",
       " (datetime.date(2025, 9, 23), 'Rosh Hashana 5786'),\n",
       " (datetime.date(2025, 9, 24), 'Rosh Hashana II'),\n",
       " (datetime.date(2025, 10, 2), 'Yom Kippur'),\n",
       " (datetime.date(2025, 10, 7), 'Sukkot I'),\n",
       " (datetime.date(2025, 10, 14), 'Shmini Atzeret')}"
      ]
     },
     "execution_count": 6,
     "metadata": {},
     "output_type": "execute_result"
    }
   ],
   "source": [
    "def fetch_holidays(year: int, month: int='x') -> set:\n",
    "    \"\"\"Fetch Jewish holidays for a given year using Hebcal API.\"\"\"\n",
    "    url = f\"https://www.hebcal.com/hebcal?v=1&cfg=json&year={year}&month={month}&geonameid=293397&yto=on&maj=on\"\n",
    "    try:\n",
    "        response = requests.get(url, headers={\"Accept\": \"application/json\"})\n",
    "        response.raise_for_status()\n",
    "        data = response.json()\n",
    "        holidays = set()\n",
    "        for item in data.get(\"items\", []):\n",
    "            if item.get(\"category\") == \"holiday\":\n",
    "                date_str = item.get(\"date\")\n",
    "                if date_str:\n",
    "                    holidays.add((datetime.strptime(date_str, \"%Y-%m-%d\").date(), item.get(\"title\")))\n",
    "        return holidays\n",
    "    except requests.exceptions.RequestException as e:\n",
    "        print(f\"Error fetching holidays: {e}\")\n",
    "        return set()\n",
    "    except ValueError as e:\n",
    "        print(f\"Error parsing holiday data: {e}\")\n",
    "        return set()\n",
    "\n",
    "# Replace the static HOLIDAYS set with a dynamic fetch\n",
    "\n",
    "fetch_holidays(datetime.now().year)\n"
   ]
  }
 ],
 "metadata": {
  "kernelspec": {
   "display_name": ".venv",
   "language": "python",
   "name": "python3"
  },
  "language_info": {
   "codemirror_mode": {
    "name": "ipython",
    "version": 3
   },
   "file_extension": ".py",
   "mimetype": "text/x-python",
   "name": "python",
   "nbconvert_exporter": "python",
   "pygments_lexer": "ipython3",
   "version": "3.11.1"
  }
 },
 "nbformat": 4,
 "nbformat_minor": 5
}
